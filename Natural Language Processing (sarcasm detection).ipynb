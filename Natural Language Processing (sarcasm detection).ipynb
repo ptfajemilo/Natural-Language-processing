{
 "cells": [
  {
   "cell_type": "code",
   "execution_count": 1,
   "id": "e2ba31fe",
   "metadata": {},
   "outputs": [],
   "source": [
    "import tensorflow as tf\n",
    "from tensorflow import keras\n",
    "from tensorflow.keras.preprocessing.text import Tokenizer"
   ]
  },
  {
   "cell_type": "code",
   "execution_count": 2,
   "id": "1cd177a4",
   "metadata": {},
   "outputs": [],
   "source": [
    "import json"
   ]
  },
  {
   "cell_type": "code",
   "execution_count": 3,
   "id": "24297466",
   "metadata": {},
   "outputs": [],
   "source": [
    "with open(\"sarcasm.json\", 'r') as f:\n",
    "    datastore = json.load(f)\n",
    "\n",
    "sentences = []\n",
    "labels = []\n",
    "urls = []\n",
    "for item in datastore:\n",
    "    sentences.append(item['headline'])\n",
    "    labels.append(item['is_sarcastic'])\n",
    "    urls.append(item['article_link'])"
   ]
  },
  {
   "cell_type": "code",
   "execution_count": 4,
   "id": "091b5b83",
   "metadata": {},
   "outputs": [
    {
     "name": "stdout",
     "output_type": "stream",
     "text": [
      "[  308 15115   679  3337  2298    48   382  2576 15116     6  2577  8434\n",
      "     0     0     0     0     0     0     0     0     0     0     0     0\n",
      "     0     0     0     0     0     0     0     0     0     0     0     0\n",
      "     0     0     0     0]\n",
      "(26709, 40)\n"
     ]
    }
   ],
   "source": [
    "from tensorflow.keras.preprocessing.text import Tokenizer\n",
    "from tensorflow.keras.preprocessing.sequence import pad_sequences\n",
    "tokenizer = Tokenizer(oov_token=\"<00V>\")\n",
    "tokenizer.fit_on_texts(sentences)\n",
    "word_index = tokenizer.word_index\n",
    "\n",
    "sequences = tokenizer.texts_to_sequences(sentences)\n",
    "padded = pad_sequences(sequences, padding=\"post\")\n",
    "print(padded[0])\n",
    "print(padded.shape)\n"
   ]
  },
  {
   "cell_type": "code",
   "execution_count": 6,
   "id": "c837c756",
   "metadata": {},
   "outputs": [],
   "source": [
    "vocab_size = 10000\n",
    "embedding_dim = 16\n",
    "max_length = 100\n",
    "trunc_type='post'\n",
    "padding_type='post'\n",
    "oov_tok = \"<OOV>\"\n",
    "training_size = 20000\n",
    "\n",
    "tokenizer = Tokenizer(num_words=vocab_size, oov_token=oov_tok)\n",
    "training_sentences = sentences[0:training_size]\n",
    "tokenizer.fit_on_texts(training_sentences)\n",
    "testing_sentences = sentences[training_size:]\n",
    "training_labels = labels[0:training_size]\n",
    "testing_labels = labels[training_size:]\n",
    "\n"
   ]
  },
  {
   "cell_type": "code",
   "execution_count": 7,
   "id": "5ef2a7c6",
   "metadata": {},
   "outputs": [],
   "source": [
    "\n",
    "\n",
    "word_index = tokenizer.word_index\n",
    "training_sequences = tokenizer.texts_to_sequences(training_sentences)\n",
    "training_padded = pad_sequences(training_sequences, maxlen=max_length,\n",
    "                                padding=padding_type, truncating=trunc_type)\n",
    "testing_sequences = tokenizer.texts_to_sequences(testing_sentences)\n",
    "testing_padded = pad_sequences(testing_sequences, maxlen=max_length,\n",
    "                               padding=padding_type, truncating=trunc_type)"
   ]
  },
  {
   "cell_type": "code",
   "execution_count": 13,
   "id": "3fefc358",
   "metadata": {},
   "outputs": [],
   "source": [
    "# Need this block to get it to work with TensorFlow 2.x\n",
    "import numpy as np\n",
    "training_padded = np.array(training_padded)\n",
    "training_labels = np.array(training_labels)\n",
    "testing_padded = np.array(testing_padded)\n",
    "testing_labels = np.array(testing_labels)"
   ]
  },
  {
   "cell_type": "code",
   "execution_count": 14,
   "id": "dc0b7304",
   "metadata": {},
   "outputs": [],
   "source": [
    "model = tf.keras.Sequential([\n",
    "    tf.keras.layers.Embedding(vocab_size, embedding_dim, input_length=max_length),\n",
    "    tf.keras.layers.GlobalAveragePooling1D(),\n",
    "    tf.keras.layers.Dense(24, activation='relu'),\n",
    "    tf.keras.layers.Dense(1, activation='sigmoid')\n",
    "])\n",
    "model.compile(loss='binary_crossentropy',optimizer='adam',metrics=['accuracy'])"
   ]
  },
  {
   "cell_type": "code",
   "execution_count": 15,
   "id": "10a07057",
   "metadata": {},
   "outputs": [
    {
     "name": "stdout",
     "output_type": "stream",
     "text": [
      "Model: \"sequential_1\"\n",
      "_________________________________________________________________\n",
      "Layer (type)                 Output Shape              Param #   \n",
      "=================================================================\n",
      "embedding_1 (Embedding)      (None, 100, 16)           160000    \n",
      "_________________________________________________________________\n",
      "global_average_pooling1d_1 ( (None, 16)                0         \n",
      "_________________________________________________________________\n",
      "dense_2 (Dense)              (None, 24)                408       \n",
      "_________________________________________________________________\n",
      "dense_3 (Dense)              (None, 1)                 25        \n",
      "=================================================================\n",
      "Total params: 160,433\n",
      "Trainable params: 160,433\n",
      "Non-trainable params: 0\n",
      "_________________________________________________________________\n"
     ]
    }
   ],
   "source": [
    "model.summary()"
   ]
  },
  {
   "cell_type": "code",
   "execution_count": 16,
   "id": "b154cdca",
   "metadata": {},
   "outputs": [
    {
     "name": "stdout",
     "output_type": "stream",
     "text": [
      "Epoch 1/30\n",
      "625/625 - 4s - loss: 0.6616 - accuracy: 0.5896 - val_loss: 0.5708 - val_accuracy: 0.7994\n",
      "Epoch 2/30\n",
      "625/625 - 2s - loss: 0.4244 - accuracy: 0.8349 - val_loss: 0.3828 - val_accuracy: 0.8389\n",
      "Epoch 3/30\n",
      "625/625 - 2s - loss: 0.3094 - accuracy: 0.8785 - val_loss: 0.3520 - val_accuracy: 0.8517\n",
      "Epoch 4/30\n",
      "625/625 - 2s - loss: 0.2582 - accuracy: 0.8995 - val_loss: 0.3439 - val_accuracy: 0.8556\n",
      "Epoch 5/30\n",
      "625/625 - 2s - loss: 0.2220 - accuracy: 0.9136 - val_loss: 0.3442 - val_accuracy: 0.8566\n",
      "Epoch 6/30\n",
      "625/625 - 2s - loss: 0.1947 - accuracy: 0.9260 - val_loss: 0.3523 - val_accuracy: 0.8557\n",
      "Epoch 7/30\n",
      "625/625 - 2s - loss: 0.1718 - accuracy: 0.9362 - val_loss: 0.3709 - val_accuracy: 0.8515\n",
      "Epoch 8/30\n",
      "625/625 - 2s - loss: 0.1544 - accuracy: 0.9434 - val_loss: 0.3816 - val_accuracy: 0.8536\n",
      "Epoch 9/30\n",
      "625/625 - 2s - loss: 0.1397 - accuracy: 0.9502 - val_loss: 0.4182 - val_accuracy: 0.8433\n",
      "Epoch 10/30\n",
      "625/625 - 2s - loss: 0.1258 - accuracy: 0.9534 - val_loss: 0.4195 - val_accuracy: 0.8515\n",
      "Epoch 11/30\n",
      "625/625 - 2s - loss: 0.1134 - accuracy: 0.9608 - val_loss: 0.4434 - val_accuracy: 0.8471\n",
      "Epoch 12/30\n",
      "625/625 - 2s - loss: 0.1038 - accuracy: 0.9654 - val_loss: 0.4745 - val_accuracy: 0.8410\n",
      "Epoch 13/30\n",
      "625/625 - 2s - loss: 0.0959 - accuracy: 0.9667 - val_loss: 0.4947 - val_accuracy: 0.8444\n",
      "Epoch 14/30\n",
      "625/625 - 2s - loss: 0.0862 - accuracy: 0.9712 - val_loss: 0.5326 - val_accuracy: 0.8386\n",
      "Epoch 15/30\n",
      "625/625 - 2s - loss: 0.0788 - accuracy: 0.9746 - val_loss: 0.5557 - val_accuracy: 0.8386\n",
      "Epoch 16/30\n",
      "625/625 - 2s - loss: 0.0721 - accuracy: 0.9768 - val_loss: 0.5885 - val_accuracy: 0.8360\n",
      "Epoch 17/30\n",
      "625/625 - 2s - loss: 0.0669 - accuracy: 0.9780 - val_loss: 0.6355 - val_accuracy: 0.8325\n",
      "Epoch 18/30\n",
      "625/625 - 2s - loss: 0.0603 - accuracy: 0.9808 - val_loss: 0.6685 - val_accuracy: 0.8311\n",
      "Epoch 19/30\n",
      "625/625 - 2s - loss: 0.0557 - accuracy: 0.9825 - val_loss: 0.6993 - val_accuracy: 0.8287\n",
      "Epoch 20/30\n",
      "625/625 - 2s - loss: 0.0501 - accuracy: 0.9837 - val_loss: 0.7351 - val_accuracy: 0.8281\n",
      "Epoch 21/30\n",
      "625/625 - 2s - loss: 0.0477 - accuracy: 0.9861 - val_loss: 0.7757 - val_accuracy: 0.8199\n",
      "Epoch 22/30\n",
      "625/625 - 2s - loss: 0.0449 - accuracy: 0.9855 - val_loss: 0.8001 - val_accuracy: 0.8247\n",
      "Epoch 23/30\n",
      "625/625 - 2s - loss: 0.0405 - accuracy: 0.9873 - val_loss: 0.8381 - val_accuracy: 0.8228\n",
      "Epoch 24/30\n",
      "625/625 - 2s - loss: 0.0365 - accuracy: 0.9890 - val_loss: 0.8809 - val_accuracy: 0.8216\n",
      "Epoch 25/30\n",
      "625/625 - 2s - loss: 0.0327 - accuracy: 0.9907 - val_loss: 0.9218 - val_accuracy: 0.8152\n",
      "Epoch 26/30\n",
      "625/625 - 2s - loss: 0.0309 - accuracy: 0.9909 - val_loss: 0.9743 - val_accuracy: 0.8170\n",
      "Epoch 27/30\n",
      "625/625 - 2s - loss: 0.0309 - accuracy: 0.9908 - val_loss: 1.0024 - val_accuracy: 0.8155\n",
      "Epoch 28/30\n",
      "625/625 - 2s - loss: 0.0268 - accuracy: 0.9919 - val_loss: 1.0291 - val_accuracy: 0.8162\n",
      "Epoch 29/30\n",
      "625/625 - 2s - loss: 0.0234 - accuracy: 0.9938 - val_loss: 1.0786 - val_accuracy: 0.8138\n",
      "Epoch 30/30\n",
      "625/625 - 2s - loss: 0.0234 - accuracy: 0.9934 - val_loss: 1.0979 - val_accuracy: 0.8104\n"
     ]
    }
   ],
   "source": [
    "num_epochs = 30\n",
    "history = model.fit(training_padded, training_labels, epochs=num_epochs, validation_data=(testing_padded, testing_labels), verbose=2)"
   ]
  },
  {
   "cell_type": "code",
   "execution_count": 17,
   "id": "7bd348f2",
   "metadata": {},
   "outputs": [],
   "source": [
    "#checking the degree of accuracy\n",
    "sentence = [\n",
    "    \"granny starting to fear spiders in the garden might be real\",\n",
    "    \"the weather today is bright and sunny\"\n",
    "]"
   ]
  },
  {
   "cell_type": "code",
   "execution_count": 18,
   "id": "3556bfd6",
   "metadata": {},
   "outputs": [
    {
     "name": "stdout",
     "output_type": "stream",
     "text": [
      "[[9.9420321e-01]\n",
      " [3.4615127e-06]]\n"
     ]
    }
   ],
   "source": [
    "sequences = tokenizer.texts_to_sequences(sentence)\n",
    "\n",
    "padded = pad_sequences(sequences, maxlen=max_length,\n",
    "                      padding=padding_type,\n",
    "                      truncating=trunc_type)\n",
    "\n",
    "print(model.predict(padded))"
   ]
  },
  {
   "cell_type": "code",
   "execution_count": 19,
   "id": "33b77030",
   "metadata": {},
   "outputs": [
    {
     "data": {
      "image/png": "[encoded data removed]",
      "text/plain": [
       "<Figure size 432x288 with 1 Axes>"
      ]
     },
     "metadata": {
      "needs_background": "light"
     },
     "output_type": "display_data"
    },
    {
     "data": {
      "image/png": "[encoded data removed]",
      "text/plain": [
       "<Figure size 432x288 with 1 Axes>"
      ]
     },
     "metadata": {
      "needs_background": "light"
     },
     "output_type": "display_data"
    }
   ],
   "source": [
    "import matplotlib.pyplot as plt\n",
    "\n",
    "\n",
    "def plot_graphs(history, string):\n",
    "  plt.plot(history.history[string])\n",
    "  plt.plot(history.history['val_'+string])\n",
    "  plt.xlabel(\"Epochs\")\n",
    "  plt.ylabel(string)\n",
    "  plt.legend([string, 'val_'+string])\n",
    "  plt.show()\n",
    "  \n",
    "plot_graphs(history, \"accuracy\")\n",
    "plot_graphs(history, \"loss\")"
   ]
  },
  {
   "cell_type": "code",
   "execution_count": null,
   "id": "c061d735",
   "metadata": {},
   "outputs": [],
   "source": []
  },
  {
   "cell_type": "code",
   "execution_count": null,
   "id": "8d7fff0e",
   "metadata": {},
   "outputs": [],
   "source": []
  }
 ],
 "metadata": {
  "kernelspec": {
   "display_name": "Python 3 (ipykernel)",
   "language": "python",
   "name": "python3"
  },
  "language_info": {
   "codemirror_mode": {
    "name": "ipython",
    "version": 3
   },
   "file_extension": ".py",
   "mimetype": "text/x-python",
   "name": "python",
   "nbconvert_exporter": "python",
   "pygments_lexer": "ipython3",
   "version": "3.9.12"
  }
 },
 "nbformat": 4,
 "nbformat_minor": 5
}
